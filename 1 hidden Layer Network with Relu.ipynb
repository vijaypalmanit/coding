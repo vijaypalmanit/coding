{
 "cells": [
  {
   "cell_type": "code",
   "execution_count": 1,
   "metadata": {},
   "outputs": [
    {
     "name": "stdout",
     "output_type": "stream",
     "text": [
      "Error:1.332939451614653\n",
      "Error:1.3282949655057037\n",
      "Error:1.3263627298849987\n",
      "Error:1.325410427868166\n",
      "Error:1.3249178904755454\n",
      "Error:1.3246572027586783\n"
     ]
    }
   ],
   "source": [
    "import numpy as np\n",
    "np.random.seed(1)\n",
    "def relu(x):\n",
    "    return (x > 0) * x\n",
    "def relu2deriv(output):\n",
    "    return output>0\n",
    "streetlights = np.array( [[ 1, 0, 1 ],\n",
    "                          [ 0, 1, 1 ],\n",
    "                          [ 0, 0, 1 ],\n",
    "                          [ 1, 1, 1 ] ] )\n",
    "walk_vs_stop = np.array([[ 1, 1, 0, 0]]).T\n",
    "alpha = 0.2\n",
    "hidden_size = 4\n",
    "weights_0_1 = 2*np.random.random((hidden_size,3)) - 1  # (4,3)\n",
    "weights_1_2 = 2*np.random.random((1,hidden_size)) - 1  # (1,4)\n",
    "for iteration in range(60):\n",
    "    layer_2_error = 0\n",
    "    for i in range(len(streetlights)):\n",
    "        layer_0 = streetlights[i:i+1].T             # (3,1)\n",
    "        layer_1 = relu(np.dot(weights_0_1,layer_0)) # (4,1)\n",
    "        layer_2 = np.dot(weights_1_2,layer_1)       # 1\n",
    "        \n",
    "        error   = layer_2 - walk_vs_stop[i:i+1]     # 1\n",
    "        layer_2_error += np.sum((layer_2 - walk_vs_stop[i:i+1]) ** 2)\n",
    "        \n",
    "        #layer_2_delta = (layer_2 - walk_vs_stop[i:i+1])\n",
    "        #layer_1_delta=layer_2_delta.dot(weights_1_2.T)*relu2deriv(layer_1)\n",
    "        \n",
    "        delw_1_2 = error * layer_1.T     #(1,4)\n",
    "        #delw_0_1  = (layer_0.dot(np.dot(error,weights_1_2))).T * relu2deriv(np.dot(weights_0_1,layer_0))\n",
    "        delw_0_1  = (layer_0.dot(error.dot(weights_1_2) * relu2deriv((layer_1).T))).T #(3,1) (1,4)\n",
    "            \n",
    "        weights_1_2 -= alpha * delw_1_2\n",
    "        weights_0_1 -= alpha * delw_0_1\n",
    "    if(iteration % 10 == 9):\n",
    "        print(\"Error:\" + str(layer_2_error))"
   ]
  },
  {
   "cell_type": "code",
   "execution_count": null,
   "metadata": {},
   "outputs": [],
   "source": []
  }
 ],
 "metadata": {
  "kernelspec": {
   "display_name": "Python 3",
   "language": "python",
   "name": "python3"
  },
  "language_info": {
   "codemirror_mode": {
    "name": "ipython",
    "version": 3
   },
   "file_extension": ".py",
   "mimetype": "text/x-python",
   "name": "python",
   "nbconvert_exporter": "python",
   "pygments_lexer": "ipython3",
   "version": "3.7.5"
  },
  "toc": {
   "base_numbering": 1,
   "nav_menu": {},
   "number_sections": true,
   "sideBar": true,
   "skip_h1_title": false,
   "title_cell": "Table of Contents",
   "title_sidebar": "Contents",
   "toc_cell": false,
   "toc_position": {},
   "toc_section_display": true,
   "toc_window_display": false
  }
 },
 "nbformat": 4,
 "nbformat_minor": 2
}
